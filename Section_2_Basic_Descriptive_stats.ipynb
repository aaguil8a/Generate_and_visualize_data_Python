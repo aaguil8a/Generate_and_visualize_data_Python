{
  "nbformat": 4,
  "nbformat_minor": 0,
  "metadata": {
    "colab": {
      "name": "Section_2_Basic_Descriptive_stats.ipynb",
      "provenance": [],
      "authorship_tag": "ABX9TyPbyuOKoqn9LlhGVDYkd97R",
      "include_colab_link": true
    },
    "kernelspec": {
      "name": "python3",
      "display_name": "Python 3"
    },
    "language_info": {
      "name": "python"
    }
  },
  "cells": [
    {
      "cell_type": "markdown",
      "metadata": {
        "id": "view-in-github",
        "colab_type": "text"
      },
      "source": [
        "<a href=\"https://colab.research.google.com/github/aaguil8a/Generate_and_visualize_data_Python/blob/main/Section_2_Basic_Descriptive_stats.ipynb\" target=\"_parent\"><img src=\"https://colab.research.google.com/assets/colab-badge.svg\" alt=\"Open In Colab\"/></a>"
      ]
    },
    {
      "cell_type": "code",
      "metadata": {
        "id": "Tvi7ns2LGEf0"
      },
      "source": [
        "import numpy as np \n",
        "import matplotlib.pyplot as plt\n",
        "import scipy.stats as stats"
      ],
      "execution_count": 1,
      "outputs": []
    },
    {
      "cell_type": "code",
      "metadata": {
        "colab": {
          "base_uri": "https://localhost:8080/"
        },
        "id": "hDqtPXJ-J3nh",
        "outputId": "7210f1bb-520b-4454-bebb-db87efbfb849"
      },
      "source": [
        "# some numbers\n",
        "vect = [1,2,3,2]\n",
        "n = len(vect)\n",
        "\n",
        "# mean by difinition\n",
        "meanval = sum(vect)/n\n",
        "\n",
        "# mean by function \n",
        "meanval2 = np.mean(vect)\n",
        "\n",
        "print(meanval,meanval2)"
      ],
      "execution_count": 3,
      "outputs": [
        {
          "output_type": "stream",
          "name": "stdout",
          "text": [
            "2.0 2.0\n"
          ]
        }
      ]
    },
    {
      "cell_type": "code",
      "metadata": {
        "colab": {
          "base_uri": "https://localhost:8080/"
        },
        "id": "KNn9fyqkJ3qb",
        "outputId": "6d70669d-a51a-47b0-e374-a775ded91fba"
      },
      "source": [
        "## median value\n",
        "\n",
        "# esiest to the use the built-in function\n",
        "\n",
        "medianval = np.median(vect)\n",
        "\n",
        "print(medianval)\n",
        "\n"
      ],
      "execution_count": 4,
      "outputs": [
        {
          "output_type": "stream",
          "name": "stdout",
          "text": [
            "2.0\n"
          ]
        }
      ]
    },
    {
      "cell_type": "code",
      "metadata": {
        "colab": {
          "base_uri": "https://localhost:8080/"
        },
        "id": "0ie3V3T_J3tQ",
        "outputId": "cdc40da0-7b54-4e28-fad9-f4aca89b36db"
      },
      "source": [
        "## standard deviation \n",
        "\n",
        "# first, mean-center \n",
        "vectC = vect - np.mean(vect)\n",
        "\n",
        "## then, sum of squred elements, divide by N-1, take square root\n",
        "stdvall = np.sqrt(np.sum(vectC**2)/ (n-1))\n",
        "\n",
        "# or use the function\n",
        "\n",
        "####\n",
        "stdval2 = np.std(vect,ddof=1) # note the second input to provide an unbiased estimate\n",
        "\n",
        "print(stdvall,stdval2)"
      ],
      "execution_count": 9,
      "outputs": [
        {
          "output_type": "stream",
          "name": "stdout",
          "text": [
            "0.816496580927726 0.816496580927726\n"
          ]
        }
      ]
    },
    {
      "cell_type": "code",
      "metadata": {
        "colab": {
          "base_uri": "https://localhost:8080/"
        },
        "id": "YI4_gQv-J3vi",
        "outputId": "37e35955-5bac-45c7-8c66-1121299da334"
      },
      "source": [
        "## variance \n",
        "\n",
        "# it's standard deviation squared \n",
        "varal1 = stdvall **2\n",
        "\n",
        "# use of function \n",
        "\n",
        "varval2 = np.var(vect,ddof=1)\n",
        "\n",
        "print(varal1,varval2)"
      ],
      "execution_count": 12,
      "outputs": [
        {
          "output_type": "stream",
          "name": "stdout",
          "text": [
            "0.6666666666666666 0.6666666666666666\n"
          ]
        }
      ]
    },
    {
      "cell_type": "code",
      "metadata": {
        "colab": {
          "base_uri": "https://localhost:8080/",
          "height": 265
        },
        "id": "r73Rf_ooNEA8",
        "outputId": "df007199-2ac7-4a81-829f-5ac36c4c68a9"
      },
      "source": [
        "# generate some random data\n",
        "\n",
        "data = np.random.randn(1000)\n",
        "nbins = 5\n",
        "\n",
        "plt.hist(data,nbins)\n",
        "plt.show()"
      ],
      "execution_count": 14,
      "outputs": [
        {
          "output_type": "display_data",
          "data": {
            "image/png": "[encoded data removed]",
            "text/plain": [
              "<Figure size 432x288 with 1 Axes>"
            ]
          },
          "metadata": {
            "needs_background": "light"
          }
        }
      ]
    },
    {
      "cell_type": "code",
      "metadata": {
        "colab": {
          "base_uri": "https://localhost:8080/"
        },
        "id": "a_XnO_tUOXR8",
        "outputId": "cb5a2945-58a5-4a81-b20a-3d536f9f3320"
      },
      "source": [
        "### FOR IQR\n",
        "\n",
        "## random number data\n",
        "\n",
        "n = 1000\n",
        "data = np.random.randn(n)\n",
        "\n",
        "# rank-transform the data and scale to 1\n",
        "dataR = stats.rankdata(data)/n\n",
        "\n",
        "# find the values closet to 25% and 75% of the distribution \n",
        "q1 = np.argmin(np.abs(dataR-.25))\n",
        "q3 = np.argmin(np.abs(dataR-.75))\n",
        "\n",
        "# get the two values in the data \n",
        "\n",
        "iq_vals = [data[q1], data[q3]   ]\n",
        "\n",
        "\n",
        "# IQR is the difference between them\n",
        "iqrange = iq_vals[1] - iq_vals[0] # first Q1\n",
        "          # third Q3\n",
        "          \n",
        "\n",
        "\n",
        "## above is how to build it\n",
        "\n",
        "# here is the scipy function\n",
        "\n",
        "iqrange2 = stats.iqr(data)\n",
        "\n",
        "\n",
        "print(iqrange,iqrange2)"
      ],
      "execution_count": 16,
      "outputs": [
        {
          "output_type": "stream",
          "name": "stdout",
          "text": [
            "1.3650619368716548 1.3592513445788494\n"
          ]
        }
      ]
    },
    {
      "cell_type": "code",
      "metadata": {
        "colab": {
          "base_uri": "https://localhost:8080/",
          "height": 265
        },
        "id": "5uxVgLmzOXUo",
        "outputId": "b4664cb2-97e4-4d34-e097-09f0132a8449"
      },
      "source": [
        "# Violin Plot\n",
        "\n",
        "m = 1 # mean\n",
        "\n",
        "s = .6 # standard deviation \n",
        "\n",
        "n = 2000 # number of data points \n",
        "\n",
        "data = np.exp(s * np.random.randn(n) + m)\n",
        "\n",
        "\n",
        "plt.violinplot(data, showmedians=True)\n",
        "plt.xlim([0,2])\n",
        "plt.show()"
      ],
      "execution_count": 20,
      "outputs": [
        {
          "output_type": "display_data",
          "data": {
            "image/png": "[encoded data removed]",
            "text/plain": [
              "<Figure size 432x288 with 1 Axes>"
            ]
          },
          "metadata": {
            "needs_background": "light"
          }
        }
      ]
    },
    {
      "cell_type": "code",
      "metadata": {
        "id": "BM2asPKJOXXG"
      },
      "source": [
        ""
      ],
      "execution_count": null,
      "outputs": []
    },
    {
      "cell_type": "code",
      "metadata": {
        "id": "ijRA3cHBOXZp"
      },
      "source": [
        ""
      ],
      "execution_count": null,
      "outputs": []
    },
    {
      "cell_type": "code",
      "metadata": {
        "id": "uPK-LO36OXcN"
      },
      "source": [
        ""
      ],
      "execution_count": null,
      "outputs": []
    }
  ]
}